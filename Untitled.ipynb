{
 "cells": [
  {
   "cell_type": "code",
   "execution_count": 12,
   "metadata": {},
   "outputs": [
    {
     "name": "stdout",
     "output_type": "stream",
     "text": [
      " ArrayFire:\t Matrix multplication 0.1528 ms, \t Matrix inverse 0.1587 ms\n",
      "     Numpy:\t Matrix multplication 3514.1049 ms, \t Matrix inverse 3566.3497 ms\n",
      "TensorFlow:\t Matrix multplication 6401.5878 ms, \t Matrix inverse 28351.3161 ms\n",
      "   PyTorch:\t Matrix multplication 1940.9831 ms, \t Matrix inverse 2472.8538 ms\n"
     ]
    }
   ],
   "source": [
    "import arrayfire as af\n",
    "import numpy as np\n",
    "import torch as tr\n",
    "from numpy import linalg as npla\n",
    "from tensorflow import linalg as tfla\n",
    "from numpy import matmul as matmul\n",
    "from timeit import default_timer as timer\n",
    "import pandas as pd\n",
    "\n",
    "A = np.random.rand(200,200)\n",
    "d1 = 5000; d2 = d1; d3 = d1\n",
    "\n",
    "A = af.random.randn(d1,d2); \n",
    "B = af.random.randn(d2,d3); \n",
    "start = timer(); C = af.matmul(A,B); end = timer(); af_t1 = 1000*(end-start);\n",
    "start = timer(); C = af.inverse(A); end = timer(); af_t2 = 1000*(end-start);\n",
    "print(' ArrayFire:\\t Matrix multplication {:.4f} ms, \\t Matrix inverse {:.4f} ms'.format(af_t1,af_t2))\n",
    "\n",
    "A = np.random.randn(d1,d2); \n",
    "B = np.random.randn(d2,d3); \n",
    "start = timer(); C = np.matmul(A,B); end = timer(); np_t1 =1000*(end-start);\n",
    "start = timer(); C = npla.inv(A); end = timer(); np_t2 = 1000*(end-start);\n",
    "print('     Numpy:\\t Matrix multplication {:.4f} ms, \\t Matrix inverse {:.4f} ms'.format(np_t1,np_t2))\n",
    "\n",
    "\n",
    "\n",
    "A = np.random.randn(d1,d2); \n",
    "B = np.random.randn(d2,d3); \n",
    "start = timer(); C = tfla.matmul(A,B); end = timer(); tf_t1 = 1000*(end-start);\n",
    "start = timer(); C = tfla.inv(A); end = timer(); tf_t2 = 1000*(end-start);\n",
    "print('TensorFlow:\\t Matrix multplication {:.4f} ms, \\t Matrix inverse {:.4f} ms'.format(tf_t1,tf_t2))\n",
    "\n",
    "\n",
    "A = tr.from_numpy(A)\n",
    "B = tr.from_numpy(B)\n",
    "start = timer(); C = tr.matmul(A,B); end = timer(); tr_t1 = 1000*(end-start);\n",
    "start = timer(); C = tr.inverse(A); end = timer(); tr_t2 = 1000*(end-start);\n",
    "print('   PyTorch:\\t Matrix multplication {:.4f} ms, \\t Matrix inverse {:.4f} ms'.format(tr_t1,tr_t2))\n",
    "\n",
    "df = pd.DataFrame(np.array([[af_t1, af_t2], [np_t1, np_t2], [tf_t1, tf_t2], [tr_t1, tr_t2]]),\n",
    "                  columns=['Matrix Multiplication (ms)', 'Matrix Inverse (ms)'],\n",
    "                   index=['ArrayFire', 'Numpy', 'TensorFlow', 'PyTorch'])\n",
    "df.to_html('arrayfire_comparison_'+str(d1)+'.html')"
   ]
  }
 ],
 "metadata": {
  "kernelspec": {
   "display_name": "Python 3",
   "language": "python",
   "name": "python3"
  },
  "language_info": {
   "codemirror_mode": {
    "name": "ipython",
    "version": 3
   },
   "file_extension": ".py",
   "mimetype": "text/x-python",
   "name": "python",
   "nbconvert_exporter": "python",
   "pygments_lexer": "ipython3",
   "version": "3.8.5"
  }
 },
 "nbformat": 4,
 "nbformat_minor": 4
}
